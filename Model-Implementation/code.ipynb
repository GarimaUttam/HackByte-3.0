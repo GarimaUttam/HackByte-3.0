{
 "cells": [
  {
   "cell_type": "code",
   "execution_count": null,
   "id": "8fce358d",
   "metadata": {},
   "outputs": [],
   "source": [
    "import numpy as np\n",
    "import matplotlib.pyplot as plt\n",
    "import tensorflow as tf\n",
    "from tensorflow.keras import layers\n",
    "\n",
    "import warnings\n",
    "warnings.filterwarnings('ignore')"
   ]
  },
  {
   "cell_type": "code",
   "execution_count": null,
   "id": "c7f8ecf5",
   "metadata": {},
   "outputs": [],
   "source": [
    "class DataGenerator():\n",
    "    def __init__(self, batch_size, target_size=(256, 256)):\n",
    "        self.batch_size = batch_size\n",
    "        self.target_size = target_size\n",
    "\n",
    "    def generate_data(self, subset, directory):\n",
    "\n",
    "        print(\"Loading\", subset, \"...\")\n",
    "\n",
    "        shuffle = False\n",
    "        if subset == 'train' or subset == 'validation':\n",
    "            shuffle = True\n",
    "\n",
    "        dataset = tf.keras.preprocessing.image_dataset_from_directory(\n",
    "            directory,\n",
    "            labels='inferred',\n",
    "            label_mode='categorical',\n",
    "            class_names=['0', '1'],\n",
    "            color_mode='rgb',\n",
    "            batch_size=self.batch_size,\n",
    "            image_size=self.target_size,\n",
    "            shuffle=shuffle,\n",
    "            seed=42,\n",
    "        )\n",
    "\n",
    "        return dataset"
   ]
  },
  {
   "cell_type": "code",
   "execution_count": null,
   "id": "2ddcd0ca",
   "metadata": {},
   "outputs": [],
   "source": [
    "batch_size = 256\n",
    "target_size = (256, 256)\n",
    "data_gen = DataGenerator(batch_size, target_size)\n",
    "\n",
    "train_set = data_gen.generate_data('train', '/kaggle/input/real-vs-ai-generated-faces-dataset/dataset/dataset/train')\n",
    "val_set = data_gen.generate_data('validation', '/kaggle/input/real-vs-ai-generated-faces-dataset/dataset/dataset/validate')\n",
    "test_set = data_gen.generate_data('test', '/kaggle/input/real-vs-ai-generated-faces-dataset/dataset/dataset/test')"
   ]
  },
  {
   "cell_type": "code",
   "execution_count": null,
   "id": "e10fcc7c",
   "metadata": {},
   "outputs": [],
   "source": [
    "labels = np.array([])\n",
    "for x, y in test_set:\n",
    "    labels = np.concatenate([labels, np.argmax(y.numpy(), axis=-1)])\n",
    "\n",
    "print(len(labels))"
   ]
  }
 ],
 "metadata": {
  "language_info": {
   "name": "python"
  }
 },
 "nbformat": 4,
 "nbformat_minor": 5
}
